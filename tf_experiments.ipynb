{
 "cells": [
  {
   "cell_type": "code",
   "execution_count": 1,
   "metadata": {},
   "outputs": [],
   "source": [
    "import tensorflow as tf"
   ]
  },
  {
   "cell_type": "code",
   "execution_count": 7,
   "metadata": {
    "scrolled": false
   },
   "outputs": [],
   "source": [
    "a = tf.ones((3, 3))\n",
    "b = tf.ones((3, 3))\n",
    "c = tf.ones((3, 3))\n",
    "\n",
    "ar, br, cr = tf.while_loop(\n",
    "  cond=lambda a, b, c: tf.reduce_mean(a) < 5, \n",
    "  body=lambda a, b, c: (a + b + c, b, c),\n",
    "  loop_vars=(a, b, c))\n",
    "\n",
    "state = tf.constant([\n",
    "  [1, 1, 1, 0, 0],\n",
    "  [1, 1, 0, 0, 0],\n",
    "  [1, 0, 0, 0, 0],\n",
    "], dtype=tf.float32)\n",
    "\n",
    "seq_len = tf.constant([3, 2, 1])\n",
    "max_len = tf.reduce_max(seq_len)\n",
    "\n",
    "def toi32(x):\n",
    "  return tf.cast(x, tf.int32)\n",
    "\n",
    "def times2(x):\n",
    "  return x * 2\n",
    "\n",
    "def update(st, sl, t, times2):\n",
    "  return st\n",
    "\n",
    "# final_t, final_state, _ = tf.while_loop(\n",
    "#   cond=lambda t, st, sl: t < max_len,\n",
    "#   body=lambda t, st, sl: (t + 1, st + 2.0 * tf.one_hot(toi32(t < seq_len) * t - toi32(t >= seq_len), st.shape[1]), sl),\n",
    "#   loop_vars=(0, state, seq_len))\n",
    "\n",
    "final_t, final_state, _ = tf.while_loop(\n",
    "  cond=lambda t, st, sl: t < max_len,\n",
    "  body=lambda t, st, sl: (t + 1, update(st, sl, t, times2), sl),\n",
    "  loop_vars=(0, state, seq_len))"
   ]
  },
  {
   "cell_type": "code",
   "execution_count": 10,
   "metadata": {},
   "outputs": [
    {
     "name": "stdout",
     "output_type": "stream",
     "text": [
      "while loop:\n",
      "[[ 5.  5.  5.]\n",
      " [ 5.  5.  5.]\n",
      " [ 5.  5.  5.]]\n",
      "[[ 1.  1.  1.]\n",
      " [ 1.  1.  1.]\n",
      " [ 1.  1.  1.]]\n",
      "[[ 1.  1.  1.]\n",
      " [ 1.  1.  1.]\n",
      " [ 1.  1.  1.]]\n",
      "rnn loop:\n",
      "3\n",
      "[[ 1.  1.  1.  0.  0.]\n",
      " [ 1.  1.  0.  0.  0.]\n",
      " [ 1.  0.  0.  0.  0.]]\n"
     ]
    }
   ],
   "source": [
    "with tf.Session() as sess:\n",
    "  print('while loop:')\n",
    "  av, bv, cv = sess.run([ar, br, cr])\n",
    "  print(av)\n",
    "  print(bv)\n",
    "  print(cv)\n",
    "  \n",
    "  print('rnn loop:')\n",
    "  tv, sv = sess.run([final_t, final_state])\n",
    "  print(tv)\n",
    "  print(sv)"
   ]
  },
  {
   "cell_type": "code",
   "execution_count": null,
   "metadata": {},
   "outputs": [],
   "source": []
  }
 ],
 "metadata": {
  "kernelspec": {
   "display_name": "Python 3",
   "language": "python",
   "name": "python3"
  },
  "language_info": {
   "codemirror_mode": {
    "name": "ipython",
    "version": 3
   },
   "file_extension": ".py",
   "mimetype": "text/x-python",
   "name": "python",
   "nbconvert_exporter": "python",
   "pygments_lexer": "ipython3",
   "version": "3.6.3"
  }
 },
 "nbformat": 4,
 "nbformat_minor": 2
}
