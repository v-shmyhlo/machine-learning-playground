{
 "cells": [
  {
   "cell_type": "markdown",
   "metadata": {},
   "source": [
    "### Notation\n",
    "${y} - label$\n",
    "$\\hat{y} - prediction$\n",
    "### L1 loss\n",
    "$$L_1(\\hat{y}, y) = \\sum_{i=0}^m|y^{(i)} - \\hat{y}^{(i)}|$$\n",
    "### L2 loss\n",
    "$$L_2(\\hat{y},y) = \\sum_{i=0}^m(y^{(i)} - \\hat{y}^{(i)})^2$$\n",
    "### Sigmoid\n",
    "$$sigmoid(x) = \\frac{1}{1 + e^{-x}}$$\n",
    "### Logistic Regression Loss\n",
    "$$L(\\hat{y}, y) = -y \\log{\\hat{y}} - (1-y)\\log{(1-\\hat{y})}$$"
   ]
  },
  {
   "cell_type": "code",
   "execution_count": null,
   "metadata": {
    "collapsed": true
   },
   "outputs": [],
   "source": []
  }
 ],
 "metadata": {
  "kernelspec": {
   "display_name": "Python 3",
   "language": "python",
   "name": "python3"
  },
  "language_info": {
   "codemirror_mode": {
    "name": "ipython",
    "version": 3
   },
   "file_extension": ".py",
   "mimetype": "text/x-python",
   "name": "python",
   "nbconvert_exporter": "python",
   "pygments_lexer": "ipython3",
   "version": "3.6.1"
  }
 },
 "nbformat": 4,
 "nbformat_minor": 2
}
