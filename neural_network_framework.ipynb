{
 "cells": [
  {
   "cell_type": "markdown",
   "metadata": {},
   "source": [
    "# Neural Network Framework"
   ]
  },
  {
   "cell_type": "markdown",
   "metadata": {},
   "source": [
    "### Dependencies"
   ]
  },
  {
   "cell_type": "code",
   "execution_count": 1,
   "metadata": {
    "collapsed": true
   },
   "outputs": [],
   "source": [
    "import numpy as np\n",
    "import matplotlib.pyplot as plt\n",
    "from utils import plot_decision_boundary\n",
    "\n",
    "%matplotlib inline\n",
    "    \n",
    "%load_ext autoreload\n",
    "%autoreload 2"
   ]
  },
  {
   "cell_type": "markdown",
   "metadata": {},
   "source": [
    "### Definitions"
   ]
  },
  {
   "cell_type": "code",
   "execution_count": 2,
   "metadata": {
    "collapsed": true
   },
   "outputs": [],
   "source": [
    "class Sigmoid(object):\n",
    "  def forward(self, Z):\n",
    "    A = 1 / (1 + np.exp(-Z))\n",
    "    cache = Z\n",
    "    \n",
    "    return A, cache\n",
    "  \n",
    "  def backward(self, cache):\n",
    "    Z = cache\n",
    "    \n",
    "    s = 1 / (1 + np.exp(-Z))\n",
    "    dZ = s * (1 - s)\n",
    "    \n",
    "    assert (dZ.shape == Z.shape)\n",
    "    \n",
    "    return dZ\n",
    "\n",
    "class Relu(object):\n",
    "  def forward(self, Z):\n",
    "    A = np.maximum(0,Z)\n",
    "    \n",
    "    assert(A.shape == Z.shape)\n",
    "    \n",
    "    cache = Z \n",
    "    return A, cache\n",
    " \n",
    "  def backward(self, cache):\n",
    "    Z = cache\n",
    "    dZ = np.ones(Z.shape) # just converting dz to a correct object.\n",
    "    \n",
    "    # When z <= 0, you should set dz to 0 as well. \n",
    "    dZ[Z <= 0] = 0\n",
    "    \n",
    "    assert (dZ.shape == Z.shape)\n",
    "    \n",
    "    return dZ"
   ]
  },
  {
   "cell_type": "code",
   "execution_count": 3,
   "metadata": {
    "collapsed": true
   },
   "outputs": [],
   "source": [
    "class LogisticLoss(object):\n",
    "  def forward(self, A, Y):\n",
    "    return -np.mean(Y * np.log(A) + (1 - Y) * np.log(1 - A))\n",
    "  \n",
    "  def backward(self, A, Y):\n",
    "    assert np.all(A > 0) # TODO: fix this\n",
    "    return -(Y / A) + (1 - Y) / (1 - A)"
   ]
  },
  {
   "cell_type": "code",
   "execution_count": 4,
   "metadata": {
    "collapsed": true
   },
   "outputs": [],
   "source": [
    "class Model(object):\n",
    "  def __init__(self, layers, loss):\n",
    "    self.layers = layers\n",
    "    self.loss = loss\n",
    "    \n",
    "  def forward(self, X):\n",
    "    A = X\n",
    "    cache = {}\n",
    "    \n",
    "    for layer in self.layers:\n",
    "      A, layer_cache = layer.forward(A)\n",
    "      cache[layer] = layer_cache\n",
    "      \n",
    "    return A, cache \n",
    "    \n",
    "  def backward(self, A, Y, cache):\n",
    "    dA = self.loss.backward(A, Y)\n",
    "    grads = {}\n",
    "    \n",
    "    for layer in reversed(self.layers):\n",
    "      dA, layer_grads = layer.backward(dA, cache[layer])\n",
    "      grads[layer] = layer_grads\n",
    "      \n",
    "    return grads\n",
    "  \n",
    "  def update(self, grads, learning_rate):\n",
    "    for layer in self.layers:\n",
    "      layer.update(grads[layer], learning_rate)\n",
    "      \n",
    "  def predict(self, X):\n",
    "    A, _cache = self.forward(X)\n",
    "    return A\n",
    "\n",
    "class Layer(object):\n",
    "  pass\n",
    "\n",
    "class Dense(Layer):\n",
    "  def __init__(self, input_dim, output_dim, activation):\n",
    "    self.W = np.random.randn(output_dim, input_dim) * 0.01\n",
    "    self.b = np.zeros([output_dim, 1])\n",
    "    self.activation = activation\n",
    "    \n",
    "  def forward(self, X):\n",
    "    Z = np.dot(self.W, X) + self.b\n",
    "    A, activation_cache = self.activation.forward(Z)\n",
    "    cache = {'X': X, 'W': self.W, 'b': self.b, 'activation': activation_cache}\n",
    "    return A, cache\n",
    "  \n",
    "  def backward(self, dA, cache):\n",
    "    m = dA.shape[1]\n",
    "    \n",
    "    dZ = dA * self.activation.backward(cache['activation'])\n",
    "    dW = np.dot(dZ, cache['X'].T) / m\n",
    "    db = np.sum(dZ, axis=1, keepdims=True) / m\n",
    "    dX = np.dot(cache['W'].T, dZ)\n",
    "    \n",
    "    grads = {\n",
    "      'dW': dW,\n",
    "      'db': db\n",
    "    }\n",
    "    \n",
    "    return dX, grads\n",
    "  \n",
    "  def update(self, grads, learning_rate):\n",
    "    self.W -= learning_rate * grads['dW']\n",
    "    self.b -= learning_rate * grads['db']"
   ]
  },
  {
   "cell_type": "markdown",
   "metadata": {},
   "source": [
    "### Dataset"
   ]
  },
  {
   "cell_type": "code",
   "execution_count": 5,
   "metadata": {},
   "outputs": [
    {
     "data": {
      "text/plain": [
       "<matplotlib.text.Text at 0x1063859e8>"
      ]
     },
     "execution_count": 5,
     "metadata": {},
     "output_type": "execute_result"
    },
    {
     "data": {
      "image/png": "[encoded data removed]",
      "text/plain": [
       "<matplotlib.figure.Figure at 0x106371048>"
      ]
     },
     "metadata": {},
     "output_type": "display_data"
    }
   ],
   "source": [
    "m = 100\n",
    "X = np.ones([2, m]) + 10\n",
    "X[:, m // 2:] += 10\n",
    "X += np.random.randn(X.shape[0], X.shape[1]) * 3\n",
    "Y = np.hstack([np.zeros((1, m // 2)), np.ones((1, m // 2))])\n",
    "\n",
    "plt.scatter(X[0, :], X[1, :], c=Y, cmap=plt.cm.Spectral)\n",
    "plt.ylabel('x2')\n",
    "plt.xlabel('x1')"
   ]
  },
  {
   "cell_type": "markdown",
   "metadata": {},
   "source": [
    "### Define and train model"
   ]
  },
  {
   "cell_type": "code",
   "execution_count": 6,
   "metadata": {},
   "outputs": [
    {
     "name": "stdout",
     "output_type": "stream",
     "text": [
      "step: 0, loss: 0.693147513877, accuracy: 50.0%\n",
      "step: 500, loss: 0.69314641549, accuracy: 63.0%\n",
      "step: 1000, loss: 0.693145116844, accuracy: 73.0%\n",
      "step: 1500, loss: 0.693142952383, accuracy: 82.0%\n",
      "step: 2000, loss: 0.693139045202, accuracy: 89.0%\n",
      "step: 2500, loss: 0.693131073818, accuracy: 92.0%\n",
      "step: 3000, loss: 0.693112437859, accuracy: 94.0%\n",
      "step: 3500, loss: 0.693061679005, accuracy: 99.0%\n",
      "step: 4000, loss: 0.69288871286, accuracy: 99.0%\n",
      "step: 4500, loss: 0.691723487772, accuracy: 68.0%\n",
      "step: 5000, loss: 0.609064182847, accuracy: 50.0%\n",
      "step: 5500, loss: 0.498753974194, accuracy: 75.0%\n",
      "step: 6000, loss: 0.384151317854, accuracy: 93.0%\n",
      "step: 6500, loss: 0.265144106995, accuracy: 98.0%\n",
      "step: 7000, loss: 0.164945152678, accuracy: 99.0%\n",
      "step: 7500, loss: 0.105294396542, accuracy: 99.0%\n",
      "step: 8000, loss: 0.0728742414794, accuracy: 99.0%\n",
      "step: 8500, loss: 0.0532027499723, accuracy: 99.0%\n",
      "step: 9000, loss: 0.0411992771101, accuracy: 100.0%\n",
      "step: 9500, loss: 0.0333007436449, accuracy: 100.0%\n"
     ]
    },
    {
     "data": {
      "text/plain": [
       "<matplotlib.text.Text at 0x1064dff98>"
      ]
     },
     "execution_count": 6,
     "metadata": {},
     "output_type": "execute_result"
    },
    {
     "data": {
      "image/png": "[encoded data removed]",
      "text/plain": [
       "<matplotlib.figure.Figure at 0x1063e9c50>"
      ]
     },
     "metadata": {},
     "output_type": "display_data"
    }
   ],
   "source": [
    "layers = [\n",
    "  Dense(input_dim=2, output_dim=10, activation=Relu()),\n",
    "  Dense(input_dim=10, output_dim=5, activation=Relu()),\n",
    "  Dense(input_dim=5, output_dim=1, activation=Sigmoid())\n",
    "]\n",
    "\n",
    "model = Model(layers, loss=LogisticLoss())\n",
    "\n",
    "steps = 10000\n",
    "log_interval = 500\n",
    "learning_rate = 0.01\n",
    "\n",
    "for i in range(steps):\n",
    "  A, cache = model.forward(X)\n",
    "  loss = model.loss.forward(A, Y)\n",
    "  grads = model.backward(A, Y, cache)\n",
    "  model.update(grads, learning_rate)\n",
    "  \n",
    "  if i % log_interval == 0:\n",
    "    Y_hat = A > 0.5\n",
    "    accuracy = np.mean(Y == Y_hat) * 100\n",
    "    print('step: %s, loss: %s, accuracy: %s%%' % (i, loss, accuracy))\n",
    "    \n",
    "plot_decision_boundary(lambda x: model.predict(x.T) > 0.5, X, Y, cmap=plt.cm.Spectral)\n",
    "plt.ylabel('x2')\n",
    "plt.xlabel('x1')"
   ]
  }
 ],
 "metadata": {
  "kernelspec": {
   "display_name": "Python 3",
   "language": "python",
   "name": "python3"
  },
  "language_info": {
   "codemirror_mode": {
    "name": "ipython",
    "version": 3
   },
   "file_extension": ".py",
   "mimetype": "text/x-python",
   "name": "python",
   "nbconvert_exporter": "python",
   "pygments_lexer": "ipython3",
   "version": "3.6.1"
  }
 },
 "nbformat": 4,
 "nbformat_minor": 2
}
