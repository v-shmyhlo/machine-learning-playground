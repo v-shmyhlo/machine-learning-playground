{
 "cells": [
  {
   "cell_type": "markdown",
   "metadata": {},
   "source": [
    "### Dependencies"
   ]
  },
  {
   "cell_type": "code",
   "execution_count": 1,
   "metadata": {
    "collapsed": true
   },
   "outputs": [],
   "source": [
    "import math \n",
    "import os\n",
    "import numpy as np\n",
    "import tensorflow as tf\n",
    "import matplotlib\n",
    "import matplotlib.pyplot as plt\n",
    "from tensorflow.examples.tutorials.mnist import input_data\n",
    "\n",
    "%matplotlib inline\n",
    "matplotlib.rcParams['figure.figsize'] = (6.4 * 2, 4.8 * 2)"
   ]
  },
  {
   "cell_type": "markdown",
   "metadata": {},
   "source": [
    "### Helpers"
   ]
  },
  {
   "cell_type": "code",
   "execution_count": 2,
   "metadata": {
    "collapsed": true
   },
   "outputs": [],
   "source": [
    "def dense(x, shape):\n",
    "  w = tf.Variable(tf.truncated_normal(shape=shape, stddev=1.0 / math.sqrt(shape[0])))\n",
    "  b = tf.Variable(tf.constant(0.1, shape=[shape[1]]))\n",
    "  return tf.matmul(x, w) + b\n",
    "\n",
    "def model(x, input_dim, hidden_size):\n",
    "  encode = dense(x, shape=[input_dim, 256])\n",
    "  hidden = dense(encode, shape=[256, hidden_size])\n",
    "  hidden = tf.nn.relu(hidden)\n",
    "  decode = dense(hidden, shape=[hidden_size, 256])\n",
    "  output = dense(decode, shape=[256, input_dim])\n",
    "  return output\n",
    "\n",
    "def mean_squared_error(y, y_):\n",
    "  error = 0.5 * tf.reduce_sum(tf.square(y - y_), axis=1)\n",
    "  return tf.reduce_mean(error)"
   ]
  },
  {
   "cell_type": "markdown",
   "metadata": {},
   "source": [
    "### Load data"
   ]
  },
  {
   "cell_type": "code",
   "execution_count": 3,
   "metadata": {},
   "outputs": [
    {
     "name": "stdout",
     "output_type": "stream",
     "text": [
      "Extracting /Users/v-shmyhlo/Datasets/mnist/train-images-idx3-ubyte.gz\n",
      "Extracting /Users/v-shmyhlo/Datasets/mnist/train-labels-idx1-ubyte.gz\n",
      "Extracting /Users/v-shmyhlo/Datasets/mnist/t10k-images-idx3-ubyte.gz\n",
      "Extracting /Users/v-shmyhlo/Datasets/mnist/t10k-labels-idx1-ubyte.gz\n"
     ]
    }
   ],
   "source": [
    "data_path = os.path.expanduser('~/Datasets/mnist')\n",
    "mnist = input_data.read_data_sets(data_path)"
   ]
  },
  {
   "cell_type": "code",
   "execution_count": 4,
   "metadata": {
    "scrolled": false
   },
   "outputs": [],
   "source": [
    "input_dim = 784\n",
    "hidden_size = 32\n",
    "\n",
    "x = tf.placeholder(tf.float32, [None, input_dim])\n",
    "y_ = tf.placeholder(tf.float32, [None, input_dim])\n",
    "learning_rate = tf.placeholder(tf.float32)\n",
    "\n",
    "y = model(x, input_dim, hidden_size)\n",
    "\n",
    "loss = mean_squared_error(y, y_)\n",
    "train = tf.train.AdamOptimizer(learning_rate).minimize(loss)\n",
    "init = tf.global_variables_initializer()"
   ]
  },
  {
   "cell_type": "markdown",
   "metadata": {},
   "source": [
    "### Train"
   ]
  },
  {
   "cell_type": "code",
   "execution_count": 7,
   "metadata": {
    "scrolled": false
   },
   "outputs": [
    {
     "name": "stdout",
     "output_type": "stream",
     "text": [
      "step: 0, validation loss: 40.586426\n",
      "step: 500, validation loss: 18.896460\n",
      "step: 1000, validation loss: 18.895514\n",
      "step: 1500, validation loss: 17.650251\n",
      "step: 2000, validation loss: 17.618525\n",
      "step: 2500, validation loss: 15.184406\n",
      "step: 3000, validation loss: 14.090055\n",
      "step: 3500, validation loss: 12.945218\n",
      "step: 4000, validation loss: 11.977216\n",
      "step: 4500, validation loss: 11.589219\n",
      "step: 5000, validation loss: 10.025450\n",
      "step: 5500, validation loss: 9.765145\n",
      "step: 6000, validation loss: 9.698896\n",
      "step: 6500, validation loss: 9.391711\n",
      "step: 7000, validation loss: 8.863120\n",
      "step: 7500, validation loss: 8.348766\n",
      "step: 8000, validation loss: 8.323817\n",
      "step: 8500, validation loss: 8.337419\n",
      "step: 9000, validation loss: 8.332650\n",
      "step: 9500, validation loss: 8.112070\n",
      "test loss: 7.979967\n"
     ]
    }
   ],
   "source": [
    "steps = 10000\n",
    "log_interval = 500\n",
    "batch_size = 256\n",
    "lr = 0.001\n",
    "vis_size = 5\n",
    "\n",
    "with tf.Session() as sess:\n",
    "  sess.run(init)\n",
    "\n",
    "  for step in range(steps):\n",
    "    batch = mnist.train.next_batch(batch_size)  \n",
    "    \n",
    "    sess.run(train, feed_dict={x: batch[0], y_: batch[0], learning_rate: lr})\n",
    "    \n",
    "    if step % log_interval == 0:\n",
    "      l = sess.run(loss, feed_dict={x: mnist.validation.images, y_: mnist.validation.images})\n",
    "      print('step: %d, validation loss: %f' % (step, l))\n",
    "      \n",
    "  l = sess.run(loss, feed_dict={x: mnist.test.images, y_: mnist.test.images})\n",
    "  print('test loss: %f' % l)\n",
    "  \n",
    "  idx = np.random.permutation(mnist.test.num_examples)[:vis_size]\n",
    "  x_sample = mnist.test.images[idx]\n",
    "  y_sample = sess.run(y, feed_dict={x: x_sample})"
   ]
  },
  {
   "cell_type": "markdown",
   "metadata": {},
   "source": [
    "### Visualize"
   ]
  },
  {
   "cell_type": "code",
   "execution_count": 8,
   "metadata": {},
   "outputs": [
    {
     "data": {
      "image/png": "[encoded data removed]",
      "text/plain": [
       "<matplotlib.figure.Figure at 0x11dedaa20>"
      ]
     },
     "metadata": {},
     "output_type": "display_data"
    }
   ],
   "source": [
    "cmap = 'binary'\n",
    "fig = plt.figure()\n",
    "\n",
    "for n in range(vis_size):\n",
    "  a = fig.add_subplot(2, vis_size, n + 1)\n",
    "  a.set_title('original')\n",
    "  implot = plt.imshow(x_sample[n].reshape((28, 28)))\n",
    "  implot.set_cmap(cmap)\n",
    "  \n",
    "  b = fig.add_subplot(2, vis_size, n + vis_size + 1)\n",
    "  b.set_title('decoded')\n",
    "  implot = plt.imshow(y_sample[n].reshape((28, 28)))\n",
    "  implot.set_cmap(cmap)\n",
    "  \n",
    "  plt.axis('off')\n",
    "\n",
    "fig.tight_layout()"
   ]
  }
 ],
 "metadata": {
  "kernelspec": {
   "display_name": "Python 3",
   "language": "python",
   "name": "python3"
  },
  "language_info": {
   "codemirror_mode": {
    "name": "ipython",
    "version": 3
   },
   "file_extension": ".py",
   "mimetype": "text/x-python",
   "name": "python",
   "nbconvert_exporter": "python",
   "pygments_lexer": "ipython3",
   "version": "3.6.1"
  }
 },
 "nbformat": 4,
 "nbformat_minor": 2
}
