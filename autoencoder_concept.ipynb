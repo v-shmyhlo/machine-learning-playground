{
 "cells": [
  {
   "cell_type": "markdown",
   "metadata": {},
   "source": [
    "### Dependencies"
   ]
  },
  {
   "cell_type": "code",
   "execution_count": 1,
   "metadata": {},
   "outputs": [],
   "source": [
    "import math \n",
    "import os\n",
    "import numpy as np\n",
    "import tensorflow as tf\n",
    "import matplotlib\n",
    "import matplotlib.pyplot as plt\n",
    "from tensorflow.examples.tutorials.mnist import input_data\n",
    "\n",
    "%matplotlib inline\n",
    "matplotlib.rcParams['figure.figsize'] = (6.4 * 2, 4.8 * 2)"
   ]
  },
  {
   "cell_type": "markdown",
   "metadata": {},
   "source": [
    "### Helpers"
   ]
  },
  {
   "cell_type": "code",
   "execution_count": 2,
   "metadata": {
    "collapsed": true
   },
   "outputs": [],
   "source": [
    "def dense(x, shape):\n",
    "  w = tf.Variable(tf.truncated_normal(shape=shape, stddev=1.0 / math.sqrt(shape[0])))\n",
    "  b = tf.Variable(tf.constant(0.1, shape=[shape[1]]))\n",
    "  return tf.matmul(x, w) + b"
   ]
  },
  {
   "cell_type": "markdown",
   "metadata": {},
   "source": [
    "### Load data"
   ]
  },
  {
   "cell_type": "code",
   "execution_count": 3,
   "metadata": {},
   "outputs": [
    {
     "name": "stdout",
     "output_type": "stream",
     "text": [
      "Extracting /Users/v-shmyhlo/Datasets/mnist/train-images-idx3-ubyte.gz\n",
      "Extracting /Users/v-shmyhlo/Datasets/mnist/train-labels-idx1-ubyte.gz\n",
      "Extracting /Users/v-shmyhlo/Datasets/mnist/t10k-images-idx3-ubyte.gz\n",
      "Extracting /Users/v-shmyhlo/Datasets/mnist/t10k-labels-idx1-ubyte.gz\n"
     ]
    }
   ],
   "source": [
    "data_path = os.path.expanduser('~/Datasets/mnist')\n",
    "mnist = input_data.read_data_sets(data_path)"
   ]
  },
  {
   "cell_type": "code",
   "execution_count": 4,
   "metadata": {
    "scrolled": false
   },
   "outputs": [],
   "source": [
    "input_dim = 784\n",
    "\n",
    "x = tf.placeholder(tf.float32, [None, input_dim])\n",
    "y_ = tf.placeholder(tf.float32, [None, input_dim])\n",
    "learning_rate = tf.placeholder(tf.float32)\n",
    "\n",
    "encode = dense(x, shape=[input_dim, 256])\n",
    "hidden = dense(encode, shape=[256, 32])\n",
    "decode = dense(hidden, shape=[32, 256])\n",
    "y = dense(decode, shape=[256, input_dim])\n",
    "\n",
    "error = tf.norm(y - y_, axis=1)\n",
    "# error = tf.reduce_sum(tf.pow(y - y_, 2), axis=1) / 2\n",
    "loss = tf.reduce_mean(error ** 2)\n",
    "\n",
    "train = tf.train.AdamOptimizer(learning_rate).minimize(loss)\n",
    "init = tf.global_variables_initializer()"
   ]
  },
  {
   "cell_type": "markdown",
   "metadata": {},
   "source": [
    "### Train"
   ]
  },
  {
   "cell_type": "code",
   "execution_count": 5,
   "metadata": {
    "scrolled": false
   },
   "outputs": [
    {
     "name": "stdout",
     "output_type": "stream",
     "text": [
      "step: 0, validation loss: 103.189705\n",
      "step: 500, validation loss: 13.650381\n",
      "step: 1000, validation loss: 13.539035\n",
      "step: 1500, validation loss: 13.563325\n",
      "step: 2000, validation loss: 13.533175\n",
      "step: 2500, validation loss: 13.526203\n",
      "step: 3000, validation loss: 13.523911\n",
      "step: 3500, validation loss: 13.570907\n",
      "step: 4000, validation loss: 13.525494\n",
      "step: 4500, validation loss: 13.544822\n",
      "test loss: 13.292422\n"
     ]
    }
   ],
   "source": [
    "steps = 5000\n",
    "log_interval = 500\n",
    "batch_size = 256\n",
    "lr = 0.001\n",
    "vis_size = 5\n",
    "\n",
    "with tf.Session() as sess:\n",
    "  sess.run(init)\n",
    "\n",
    "  for step in range(steps):\n",
    "    batch = mnist.train.next_batch(batch_size)  \n",
    "    \n",
    "    sess.run(train, feed_dict={x: batch[0], y_: batch[0], learning_rate: lr})\n",
    "    \n",
    "    if step % log_interval == 0:\n",
    "      l = sess.run(loss, feed_dict={x: mnist.validation.images, y_: mnist.validation.images})\n",
    "      print('step: %d, validation loss: %f' % (step, l))\n",
    "      \n",
    "  l = sess.run(loss, feed_dict={x: mnist.test.images, y_: mnist.test.images})\n",
    "  print('test loss: %f' % l)\n",
    "  \n",
    "  idx = np.random.permutation(mnist.test.num_examples)[:vis_size]\n",
    "  x_sample = mnist.test.images[idx]\n",
    "  y_sample = sess.run(y, feed_dict={x: x_sample})"
   ]
  },
  {
   "cell_type": "markdown",
   "metadata": {},
   "source": [
    "### Visualize"
   ]
  },
  {
   "cell_type": "code",
   "execution_count": 6,
   "metadata": {},
   "outputs": [
    {
     "data": {
      "image/png": "[encoded data removed]",
      "text/plain": [
       "<matplotlib.figure.Figure at 0x10fb02438>"
      ]
     },
     "metadata": {},
     "output_type": "display_data"
    }
   ],
   "source": [
    "cmap = 'binary'\n",
    "fig = plt.figure()\n",
    "\n",
    "for n in range(vis_size):\n",
    "  a = fig.add_subplot(2, vis_size, n + 1)\n",
    "  a.set_title('original')\n",
    "  implot = plt.imshow(x_sample[n].reshape((28, 28)))\n",
    "  implot.set_cmap(cmap)\n",
    "  \n",
    "  b = fig.add_subplot(2, vis_size, n + vis_size + 1)\n",
    "  b.set_title('decoded')\n",
    "  implot = plt.imshow(y_sample[n].reshape((28, 28)))\n",
    "  implot.set_cmap(cmap)\n",
    "  \n",
    "  plt.axis('off')\n",
    "\n",
    "fig.tight_layout()"
   ]
  }
 ],
 "metadata": {
  "kernelspec": {
   "display_name": "Python 3",
   "language": "python",
   "name": "python3"
  },
  "language_info": {
   "codemirror_mode": {
    "name": "ipython",
    "version": 3
   },
   "file_extension": ".py",
   "mimetype": "text/x-python",
   "name": "python",
   "nbconvert_exporter": "python",
   "pygments_lexer": "ipython3",
   "version": "3.6.1"
  }
 },
 "nbformat": 4,
 "nbformat_minor": 2
}
