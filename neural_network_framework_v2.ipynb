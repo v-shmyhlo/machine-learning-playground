{
 "cells": [
  {
   "cell_type": "markdown",
   "metadata": {},
   "source": [
    "# Neural Network Framework"
   ]
  },
  {
   "cell_type": "markdown",
   "metadata": {},
   "source": [
    "### Dependencies"
   ]
  },
  {
   "cell_type": "code",
   "execution_count": 1,
   "metadata": {
    "collapsed": true
   },
   "outputs": [],
   "source": [
    "import numpy as np\n",
    "import matplotlib.pyplot as plt\n",
    "from utils import plot_decision_boundary\n",
    "\n",
    "%matplotlib inline\n",
    "    \n",
    "%load_ext autoreload\n",
    "%autoreload 2"
   ]
  },
  {
   "cell_type": "markdown",
   "metadata": {},
   "source": [
    "### Activations"
   ]
  },
  {
   "cell_type": "code",
   "execution_count": 2,
   "metadata": {
    "collapsed": true
   },
   "outputs": [],
   "source": [
    "class Sigmoid(object):\n",
    "  def forward(self, Z):\n",
    "    A = 1 / (1 + np.exp(-Z))\n",
    "    assert(A.shape == Z.shape)\n",
    "    return A, Z\n",
    "  \n",
    "  def backward(self, dX, cache):\n",
    "    Z = cache\n",
    "    del cache\n",
    "    \n",
    "    s = 1 / (1 + np.exp(-Z))\n",
    "    dZ = s * (1 - s)\n",
    "    dZ *= dX\n",
    "    assert (dZ.shape == Z.shape)\n",
    "    return dZ\n",
    "\n",
    "class Relu(object):\n",
    "  def forward(self, Z):\n",
    "    A = np.maximum(0, Z)\n",
    "    assert(A.shape == Z.shape)\n",
    "    return A, Z\n",
    " \n",
    "  def backward(self, dX, cache):\n",
    "    Z = cache\n",
    "    del cache\n",
    "    \n",
    "    dZ = np.ones(Z.shape) # just converting dz to a correct object.\n",
    "    dZ[Z <= 0] = 0 # when z <= 0, you should set dz to 0 as well.\n",
    "    dZ *= dX\n",
    "    assert (dZ.shape == Z.shape)\n",
    "    return dZ"
   ]
  },
  {
   "cell_type": "markdown",
   "metadata": {},
   "source": [
    "### Losses"
   ]
  },
  {
   "cell_type": "code",
   "execution_count": 3,
   "metadata": {
    "collapsed": true
   },
   "outputs": [],
   "source": [
    "class LogisticLoss(object):\n",
    "  def forward(self, A, Y):\n",
    "    loss = -np.mean(Y * np.log(A) + (1 - Y) * np.log(1 - A))\n",
    "    return loss, (A, Y)\n",
    "  \n",
    "  def backward(self, dL, cache):\n",
    "    A, Y = cache\n",
    "    del cache\n",
    "    \n",
    "    assert np.all(A != 0.0) and np.all(A != 1.0)\n",
    "    dA = dL * -(Y / A) + (1 - Y) / (1 - A)\n",
    "    return dA"
   ]
  },
  {
   "cell_type": "markdown",
   "metadata": {},
   "source": [
    "### Model"
   ]
  },
  {
   "cell_type": "code",
   "execution_count": 4,
   "metadata": {
    "collapsed": true
   },
   "outputs": [],
   "source": [
    "class Model(object):\n",
    "  def __init__(self, layers, loss):\n",
    "    self.layers = layers\n",
    "    self.loss = loss\n",
    "    \n",
    "  def predict(self, X):\n",
    "    A = X\n",
    "    cache = {}\n",
    "    \n",
    "    for layer in self.layers:\n",
    "      A, layer_cache = layer.forward(A)\n",
    "      cache[layer] = layer_cache\n",
    "      \n",
    "    return A, cache \n",
    "    \n",
    "  def forward(self, X, Y):\n",
    "    A, predict_c = self.predict(X)\n",
    "    loss, loss_c = self.loss.forward(A, Y)\n",
    "    return loss, (predict_c, loss_c)\n",
    "    \n",
    "  def backward(self, dA, cache):\n",
    "    predict_c, loss_c = cache\n",
    "    del cache\n",
    "    \n",
    "    grads = {}\n",
    "    dA = self.loss.backward(dA, loss_c)\n",
    "    \n",
    "    for layer in reversed(self.layers):\n",
    "      dA, layer_grads = layer.backward(dA, predict_c[layer])\n",
    "      grads[layer] = layer_grads\n",
    "      \n",
    "    return grads\n",
    "  \n",
    "  def update(self, grads, learning_rate):\n",
    "    for layer in self.layers:\n",
    "      layer.update(grads[layer], learning_rate)"
   ]
  },
  {
   "cell_type": "markdown",
   "metadata": {},
   "source": [
    "### Layers"
   ]
  },
  {
   "cell_type": "code",
   "execution_count": 5,
   "metadata": {
    "collapsed": true
   },
   "outputs": [],
   "source": [
    "class Dense(object):\n",
    "  def __init__(self, input_dim, output_dim, activation):\n",
    "    self.W = np.random.randn(output_dim, input_dim) * 0.01\n",
    "    self.b = np.zeros([output_dim, 1])\n",
    "    self.activation = activation\n",
    "    \n",
    "  def forward(self, X):\n",
    "    Z = np.dot(self.W, X) + self.b\n",
    "    A, activation = self.activation.forward(Z)\n",
    "    return A, (X, self.W, self.b, activation)\n",
    "  \n",
    "  def backward(self, dA, cache):\n",
    "    X, W, b, activation = cache\n",
    "    del cache\n",
    "    \n",
    "    m = X.shape[1]\n",
    "    dZ = self.activation.backward(dA, activation)\n",
    "    dW = np.dot(dZ, X.T) / m\n",
    "    db = np.sum(dZ, axis=1, keepdims=True) / m\n",
    "    dX = np.dot(W.T, dZ)\n",
    "    \n",
    "    grads = {\n",
    "      'dW': dW,\n",
    "      'db': db\n",
    "    }\n",
    "    \n",
    "    return dX, grads\n",
    "  \n",
    "  def update(self, grads, learning_rate):\n",
    "    self.W -= learning_rate * grads['dW']\n",
    "    self.b -= learning_rate * grads['db']"
   ]
  },
  {
   "cell_type": "markdown",
   "metadata": {},
   "source": [
    "### Dataset"
   ]
  },
  {
   "cell_type": "code",
   "execution_count": 6,
   "metadata": {},
   "outputs": [
    {
     "data": {
      "text/plain": [
       "<matplotlib.text.Text at 0x106261358>"
      ]
     },
     "execution_count": 6,
     "metadata": {},
     "output_type": "execute_result"
    },
    {
     "data": {
      "image/png": "[encoded data removed]",
      "text/plain": [
       "<matplotlib.figure.Figure at 0x1062756d8>"
      ]
     },
     "metadata": {},
     "output_type": "display_data"
    }
   ],
   "source": [
    "m = 100\n",
    "X = np.ones([2, m]) + 10\n",
    "X[:, m // 2:] += 10\n",
    "X += np.random.randn(X.shape[0], X.shape[1]) * 3\n",
    "Y = np.hstack([np.zeros((1, m // 2)), np.ones((1, m // 2))])\n",
    "\n",
    "plt.scatter(X[0, :], X[1, :], c=Y, cmap=plt.cm.Spectral)\n",
    "plt.ylabel('x2')\n",
    "plt.xlabel('x1')"
   ]
  },
  {
   "cell_type": "markdown",
   "metadata": {},
   "source": [
    "### Define and train model"
   ]
  },
  {
   "cell_type": "code",
   "execution_count": 7,
   "metadata": {},
   "outputs": [
    {
     "name": "stdout",
     "output_type": "stream",
     "text": [
      "step: 0, loss: 0.693145630698, accuracy: 50.0%\n",
      "step: 500, loss: 0.693142247423, accuracy: 57.0%\n",
      "step: 1000, loss: 0.693132666526, accuracy: 56.0%\n",
      "step: 1500, loss: 0.693098681885, accuracy: 53.0%\n",
      "step: 2000, loss: 0.692902698815, accuracy: 50.0%\n",
      "step: 2500, loss: 0.687027929217, accuracy: 50.0%\n",
      "step: 3000, loss: 0.598305387172, accuracy: 53.0%\n",
      "step: 3500, loss: 0.517179602417, accuracy: 75.0%\n",
      "step: 4000, loss: 0.430669787248, accuracy: 90.0%\n",
      "step: 4500, loss: 0.334849059118, accuracy: 96.0%\n",
      "step: 5000, loss: 0.241062614457, accuracy: 97.0%\n",
      "step: 5500, loss: 0.177423002629, accuracy: 98.0%\n",
      "step: 6000, loss: 0.147315947267, accuracy: 98.0%\n",
      "step: 6500, loss: 0.121767205801, accuracy: 97.0%\n",
      "step: 7000, loss: 0.11096465426, accuracy: 95.0%\n",
      "step: 7500, loss: 0.0957755630299, accuracy: 98.0%\n",
      "step: 8000, loss: 0.0892078280454, accuracy: 98.0%\n",
      "step: 8500, loss: 0.0819442635285, accuracy: 98.0%\n",
      "step: 9000, loss: 0.0798718872507, accuracy: 98.0%\n",
      "step: 9500, loss: 0.0747252258269, accuracy: 98.0%\n"
     ]
    },
    {
     "data": {
      "text/plain": [
       "<matplotlib.text.Text at 0x1063e5780>"
      ]
     },
     "execution_count": 7,
     "metadata": {},
     "output_type": "execute_result"
    },
    {
     "data": {
      "image/png": "[encoded data removed]",
      "text/plain": [
       "<matplotlib.figure.Figure at 0x1063bce10>"
      ]
     },
     "metadata": {},
     "output_type": "display_data"
    }
   ],
   "source": [
    "layers = [\n",
    "  Dense(input_dim=2, output_dim=10, activation=Relu()),\n",
    "  Dense(input_dim=10, output_dim=5, activation=Relu()),\n",
    "  Dense(input_dim=5, output_dim=1, activation=Sigmoid())\n",
    "]\n",
    "\n",
    "model = Model(layers, loss=LogisticLoss())\n",
    "\n",
    "steps = 10000\n",
    "log_interval = 500\n",
    "learning_rate = 0.01\n",
    "\n",
    "for i in range(steps):\n",
    "  loss, cache = model.forward(X, Y)\n",
    "  grads = model.backward(1, cache)\n",
    "  model.update(grads, learning_rate)\n",
    "  \n",
    "  if i % log_interval == 0:\n",
    "    A, cache = model.predict(X)\n",
    "    Y_hat = A > 0.5\n",
    "    accuracy = np.mean(Y == Y_hat) * 100\n",
    "    print('step: %s, loss: %s, accuracy: %s%%' % (i, loss, accuracy))\n",
    "    \n",
    "plot_decision_boundary(lambda x: model.predict(x.T)[0] > 0.5, X, Y, cmap=plt.cm.Spectral)\n",
    "plt.ylabel('x2')\n",
    "plt.xlabel('x1')"
   ]
  }
 ],
 "metadata": {
  "kernelspec": {
   "display_name": "Python 3",
   "language": "python",
   "name": "python3"
  },
  "language_info": {
   "codemirror_mode": {
    "name": "ipython",
    "version": 3
   },
   "file_extension": ".py",
   "mimetype": "text/x-python",
   "name": "python",
   "nbconvert_exporter": "python",
   "pygments_lexer": "ipython3",
   "version": "3.6.1"
  }
 },
 "nbformat": 4,
 "nbformat_minor": 2
}
