{
 "cells": [
  {
   "cell_type": "markdown",
   "metadata": {},
   "source": [
    "### Dependencies"
   ]
  },
  {
   "cell_type": "code",
   "execution_count": 1,
   "metadata": {
    "collapsed": true
   },
   "outputs": [],
   "source": [
    "import tensorflow as tf\n",
    "import time\n",
    "import matplotlib\n",
    "import matplotlib.pyplot as plt\n",
    "from tensorflow.examples.tutorials.mnist import input_data\n",
    "import numpy as np\n",
    "import math\n",
    "\n",
    "%matplotlib inline\n",
    "matplotlib.rcParams['figure.figsize'] = (6.4 * 2, 4.8 * 2)"
   ]
  },
  {
   "cell_type": "markdown",
   "metadata": {},
   "source": [
    "### Helpers"
   ]
  },
  {
   "cell_type": "code",
   "execution_count": 2,
   "metadata": {
    "collapsed": true
   },
   "outputs": [],
   "source": [
    "def weight_variable(shape, name='w'):\n",
    "  initial = tf.truncated_normal(shape, stddev=1.0 / math.sqrt(np.prod(shape[:-1])))\n",
    "  return tf.Variable(initial, name=name)\n",
    "\n",
    "def bias_variable(shape, name='b'):\n",
    "  initial = tf.constant(0.1, shape=shape)\n",
    "  return tf.Variable(initial, name=name)\n",
    "\n",
    "def conv2d(x, W):\n",
    "  return tf.nn.conv2d(x, W, strides=[1, 1, 1, 1], padding='SAME')\n",
    "\n",
    "def max_pool_2x2(x):\n",
    "  return tf.nn.max_pool(x, ksize=[1, 2, 2, 1],\n",
    "                        strides=[1, 2, 2, 1], padding='SAME')\n",
    "\n",
    "def visualize_layer(x, r, c, cmap='binary'):\n",
    "  fig = plt.figure()\n",
    "  for n in range(x.shape[-1]):\n",
    "    a = fig.add_subplot(r, c, n + 1)\n",
    "    a.set_title(n)\n",
    "    implot = plt.imshow(x[:, :, n])\n",
    "    implot.set_cmap(cmap)\n",
    "    plt.axis('off')\n",
    "\n",
    "  fig.tight_layout()\n",
    "  \n",
    "def save_model(saver, sess, model_path):\n",
    "  save_path = saver.save(sess, model_path)\n",
    "  print('Model saved to file: %s' % save_path)"
   ]
  },
  {
   "cell_type": "markdown",
   "metadata": {},
   "source": [
    "### Load data"
   ]
  },
  {
   "cell_type": "code",
   "execution_count": 3,
   "metadata": {},
   "outputs": [
    {
     "name": "stdout",
     "output_type": "stream",
     "text": [
      "Extracting data/mnist/train-images-idx3-ubyte.gz\n",
      "Extracting data/mnist/train-labels-idx1-ubyte.gz\n",
      "Extracting data/mnist/t10k-images-idx3-ubyte.gz\n",
      "Extracting data/mnist/t10k-labels-idx1-ubyte.gz\n"
     ]
    }
   ],
   "source": [
    "mnist = input_data.read_data_sets('data/mnist', one_hot=True)"
   ]
  },
  {
   "cell_type": "markdown",
   "metadata": {},
   "source": [
    "### Build a graph"
   ]
  },
  {
   "cell_type": "code",
   "execution_count": 4,
   "metadata": {
    "collapsed": true
   },
   "outputs": [],
   "source": [
    "global_step = tf.Variable(0, name='global_step', trainable=False)\n",
    "learning_rate = tf.placeholder(tf.float32, name='learning_rate')\n",
    "x = tf.placeholder(tf.float32, shape=[None, 784], name='x')\n",
    "y_ = tf.placeholder(tf.float32, shape=[None, 10], name='y_')\n",
    "x_image = tf.reshape(x, [-1, 28, 28, 1])\n",
    "\n",
    "# conv -> relu -> max_pool\n",
    "with tf.name_scope('conv1'):\n",
    "  W_conv1 = weight_variable([5, 5, 1, 32])\n",
    "  b_conv1 = bias_variable([32])\n",
    "  h_conv1 = conv2d(x_image, W_conv1) + b_conv1\n",
    "\n",
    "h_relu1 = tf.nn.relu(h_conv1)\n",
    "h_pool1 = max_pool_2x2(h_relu1)\n",
    "\n",
    "# conv -> relu -> max_pool\n",
    "with tf.name_scope('conv2'):\n",
    "  W_conv2 = weight_variable([5, 5, 32, 64])\n",
    "  b_conv2 = bias_variable([64])\n",
    "  h_conv2 = conv2d(h_pool1, W_conv2) + b_conv2\n",
    "\n",
    "h_relu2 = tf.nn.relu(h_conv2)\n",
    "h_pool2 = max_pool_2x2(h_relu2)\n",
    "\n",
    "# fully connected -> relu\n",
    "with tf.name_scope('fc1'):\n",
    "  W_fc1 = weight_variable([7 * 7 * 64, 1024])\n",
    "  b_fc1 = bias_variable([1024])\n",
    "  h_pool2_flat = tf.reshape(h_pool2, [-1, 7 * 7 * 64])\n",
    "  h_fc1 = tf.matmul(h_pool2_flat, W_fc1) + b_fc1\n",
    "\n",
    "h_fc1 = tf.nn.relu(h_fc1)\n",
    "\n",
    "# dropout\n",
    "keep_prob = tf.placeholder(tf.float32, name='keep_prob')\n",
    "h_fc1_drop = tf.nn.dropout(h_fc1, keep_prob)\n",
    "\n",
    "# fully connected\n",
    "with tf.name_scope('fc2'):\n",
    "  W_fc2 = weight_variable([1024, 10])\n",
    "  b_fc2 = bias_variable([10])\n",
    "  y_conv = tf.matmul(h_fc1_drop, W_fc2) + b_fc2\n",
    "\n",
    "# training\n",
    "with tf.name_scope('loss'):\n",
    "  loss = tf.reduce_mean(\n",
    "      tf.nn.softmax_cross_entropy_with_logits(labels=y_, logits=y_conv))\n",
    "train_step = tf.train.AdamOptimizer(learning_rate).minimize(loss, global_step=global_step)\n",
    "  \n",
    "# evaluation\n",
    "with tf.name_scope('accuracy'):\n",
    "  correct_prediction = tf.equal(tf.argmax(y_conv, 1), tf.argmax(y_, 1))\n",
    "  accuracy = tf.reduce_mean(tf.cast(correct_prediction, tf.float32))\n",
    "  \n",
    "# summaries\n",
    "with tf.name_scope('summary'):\n",
    "  tf.summary.scalar('accuracy', accuracy)\n",
    "  \n",
    "merged = tf.summary.merge_all()\n",
    "saver = tf.train.Saver()"
   ]
  },
  {
   "cell_type": "markdown",
   "metadata": {},
   "source": [
    "### Train"
   ]
  },
  {
   "cell_type": "code",
   "execution_count": null,
   "metadata": {
    "scrolled": false
   },
   "outputs": [
    {
     "name": "stdout",
     "output_type": "stream",
     "text": [
      "INFO:tensorflow:Restoring parameters from model/mnist_conv.ckpt\n",
      "step: 3200, validation accuracy: 0.9800, learning rate: 1e-04, time left: 1:33\n",
      "step: 3400, validation accuracy: 0.9818, learning rate: 1e-04, time left: 2:48\n",
      "step: 3600, validation accuracy: 0.9816, learning rate: 1e-04, time left: 3:53\n",
      "step: 3800, validation accuracy: 0.9828, learning rate: 1e-04, time left: 4:41\n",
      "step: 4000, validation accuracy: 0.9842, learning rate: 1e-04, time left: 5:19\n",
      "Model saved to file: model/mnist_conv.ckpt\n"
     ]
    }
   ],
   "source": [
    "lr = 1e-4\n",
    "steps = 10000\n",
    "batch_size = 32\n",
    "log_interval = 200\n",
    "save_interval = 1000\n",
    "restore = True\n",
    "model_path = 'model/mnist_conv.ckpt'\n",
    "  \n",
    "with tf.Session() as sess:\n",
    "  writer = tf.summary.FileWriter('/tmp/tf_log/mnist_conv', sess.graph)\n",
    "  \n",
    "  if restore:\n",
    "    saver.restore(sess, model_path)\n",
    "  else:\n",
    "    init = tf.global_variables_initializer()\n",
    "    sess.run(init)\n",
    "      \n",
    "  start_time = time.time()\n",
    "  \n",
    "  for i in range(sess.run(global_step), steps):\n",
    "    batch = mnist.train.next_batch(batch_size)  \n",
    "    \n",
    "    sess.run(train_step, \n",
    "             feed_dict={x: batch[0], y_: batch[1], keep_prob: 0.5, learning_rate: lr})\n",
    "    \n",
    "    if i > 0 and i % log_interval == 0:\n",
    "      validation_accuracy, summary = sess.run(\n",
    "        [accuracy, merged], \n",
    "        feed_dict={x: mnist.validation.images, y_: mnist.validation.labels, keep_prob: 1.0}) \n",
    "      \n",
    "      elapsed_time = time.time() - start_time\n",
    "      seconds_per_iteration = elapsed_time / i\n",
    "      seconds_left = (steps - i) * seconds_per_iteration\n",
    "     \n",
    "      print(('step: %d, validation accuracy: %.4f, learning rate: %.e, time left: %d:%02d' % \n",
    "             (i, validation_accuracy, lr, seconds_left // 60, seconds_left % 60)))\n",
    "      \n",
    "      writer.add_summary(summary, i)\n",
    "      writer.flush()\n",
    "      \n",
    "      if validation_accuracy >= 0.992:\n",
    "        lr = 1e-5\n",
    "        save_model(saver, sess, model_path)\n",
    "      if validation_accuracy >= 0.9926:\n",
    "        save_model(saver, sess, model_path)\n",
    "        break\n",
    "      \n",
    "    if i > 0 and i % save_interval == 0:\n",
    "      save_model(saver, sess, model_path)\n",
    "\n",
    "  print('test accuracy: %g' % sess.run(\n",
    "    accuracy,\n",
    "    feed_dict={x: mnist.test.images, y_: mnist.test.labels, keep_prob: 1.0}))\n",
    "  \n",
    "  # data for visualization\n",
    "  i_random = 5625\n",
    "  image = mnist.test.images[i_random].reshape([1, -1])\n",
    "  label = mnist.test.labels[i_random].reshape([1, -1])\n",
    "  \n",
    "  conv1, conv2 = sess.run([h_conv1, h_conv2], \n",
    "                          feed_dict={x: image, y_: label, keep_prob: 1.0})\n",
    "  \n",
    "  writer.close()"
   ]
  },
  {
   "cell_type": "markdown",
   "metadata": {
    "collapsed": true
   },
   "source": [
    "### Visualize layers"
   ]
  },
  {
   "cell_type": "code",
   "execution_count": null,
   "metadata": {
    "collapsed": true,
    "scrolled": false
   },
   "outputs": [],
   "source": [
    "visualize_layer(conv1.reshape([28, 28, 32]), 4, 8)\n",
    "plt.show()\n",
    "\n",
    "visualize_layer(conv2.reshape([14, 14, 64]), 8, 8)\n",
    "plt.show()"
   ]
  },
  {
   "cell_type": "code",
   "execution_count": null,
   "metadata": {
    "collapsed": true
   },
   "outputs": [],
   "source": []
  }
 ],
 "metadata": {
  "kernelspec": {
   "display_name": "Python 3",
   "language": "python",
   "name": "python3"
  },
  "language_info": {
   "codemirror_mode": {
    "name": "ipython",
    "version": 3
   },
   "file_extension": ".py",
   "mimetype": "text/x-python",
   "name": "python",
   "nbconvert_exporter": "python",
   "pygments_lexer": "ipython3",
   "version": "3.6.1"
  }
 },
 "nbformat": 4,
 "nbformat_minor": 2
}
