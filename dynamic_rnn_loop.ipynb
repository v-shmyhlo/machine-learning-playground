{
 "cells": [
  {
   "cell_type": "markdown",
   "metadata": {},
   "source": [
    "# Tensorflow Dynamic RNN Loop Implementation"
   ]
  },
  {
   "cell_type": "code",
   "execution_count": 1,
   "metadata": {},
   "outputs": [],
   "source": [
    "import tensorflow as tf\n",
    "import numpy as np"
   ]
  },
  {
   "cell_type": "code",
   "execution_count": 2,
   "metadata": {},
   "outputs": [],
   "source": [
    "tf.reset_default_graph()\n",
    "tf.set_random_seed(1)"
   ]
  },
  {
   "cell_type": "code",
   "execution_count": 3,
   "metadata": {
    "scrolled": false
   },
   "outputs": [],
   "source": [
    "a = tf.ones((3, 3))\n",
    "b = tf.ones((3, 3))\n",
    "c = tf.ones((3, 3))\n",
    "\n",
    "ar, br, cr = tf.while_loop(\n",
    "  cond=lambda a, b, c: tf.reduce_mean(a) < 5, \n",
    "  body=lambda a, b, c: (a + b + c, b, c),\n",
    "  loop_vars=(a, b, c))"
   ]
  },
  {
   "cell_type": "code",
   "execution_count": 4,
   "metadata": {},
   "outputs": [],
   "source": [
    "# final_t, final_state, _ = tf.while_loop(\n",
    "#   cond=lambda t, st, sl: t < max_len,\n",
    "#   body=lambda t, st, sl: (t + 1, st + 2.0 * tf.one_hot(toi32(t < seq_len) * t - toi32(t >= seq_len), st.shape[1]), sl),\n",
    "#   loop_vars=(0, state, seq_len))"
   ]
  },
  {
   "cell_type": "code",
   "execution_count": 5,
   "metadata": {
    "scrolled": false
   },
   "outputs": [],
   "source": [
    "inputs = tf.constant([\n",
    "  [[1], [1], [1], [8], [8]],\n",
    "  [[1], [1], [8], [8], [8]],\n",
    "  [[1], [8], [8], [8], [8]],\n",
    "], dtype=tf.float32, name='inputs')\n",
    "\n",
    "state = tf.constant([\n",
    "  [10, 10], \n",
    "  [10, 10], \n",
    "  [10, 10]\n",
    "], dtype=tf.float32, name='state')\n",
    "\n",
    "seq_len = tf.constant([3, 2, 1])\n",
    "# max_len = tf.reduce_max(seq_len)\n",
    "max_len = inputs.shape[1]\n",
    "\n",
    "def toi32(x):\n",
    "  return tf.cast(x, tf.int32)\n",
    "\n",
    "cell = tf.nn.rnn_cell.GRUCell(2)\n",
    "def f(x, st):\n",
    "  return cell(x, st)[1]\n",
    "\n",
    "def reduce(xs, st, sts, t, sl):\n",
    "  valid = t < sl\n",
    "  comp = f(xs[:, t], st)\n",
    "  new_st = tf.where(valid, comp, st)\n",
    "  append = tf.where(valid, comp, tf.zeros(st.shape))\n",
    "  new_sts = tf.concat([\n",
    "    sts, \n",
    "    tf.reshape(append, (append.shape[0], 1, append.shape[1]))\n",
    "  ], axis=1)\n",
    "  return new_st, new_sts\n",
    "\n",
    "_, final_state, all_states, final_t, _ = tf.while_loop(\n",
    "  cond=lambda xs, st, sts, t, sl: t < max_len,\n",
    "  body=lambda xs, st, sts, t, sl: (xs, *reduce(xs, st, sts, t, sl), t + 1, sl),\n",
    "  loop_vars=(inputs, state, tf.zeros((state.shape[0], 0, state.shape[1])), 0, seq_len),\n",
    "  shape_invariants=(inputs.shape, state.shape, tf.TensorShape([state.shape[0], None, state.shape[1]]), tf.TensorShape([]), seq_len.shape))\n",
    "\n",
    "# reference implementation\n",
    "(all_states_true, final_state_true) = tf.nn.dynamic_rnn(\n",
    "  cell,\n",
    "  inputs=inputs,\n",
    "  initial_state=state,\n",
    "  sequence_length=seq_len)"
   ]
  },
  {
   "cell_type": "code",
   "execution_count": 6,
   "metadata": {},
   "outputs": [],
   "source": [
    "init = tf.global_variables_initializer()"
   ]
  },
  {
   "cell_type": "code",
   "execution_count": 7,
   "metadata": {
    "scrolled": false
   },
   "outputs": [
    {
     "name": "stdout",
     "output_type": "stream",
     "text": [
      "while loop:\n",
      "[[ 5.  5.  5.]\n",
      " [ 5.  5.  5.]\n",
      " [ 5.  5.  5.]]\n",
      "[[ 1.  1.  1.]\n",
      " [ 1.  1.  1.]\n",
      " [ 1.  1.  1.]]\n",
      "[[ 1.  1.  1.]\n",
      " [ 1.  1.  1.]\n",
      " [ 1.  1.  1.]]\n",
      "rnn loop:\n",
      "t: 5\n",
      "st:\n",
      "[[ 0.99985451  9.29173756]\n",
      " [ 1.0003612   9.45623398]\n",
      " [ 1.04323864  9.61685848]]\n",
      "sts:\n",
      "[[[ 1.04323864  9.61685848]\n",
      "  [ 1.0003612   9.45623398]\n",
      "  [ 0.99985451  9.29173756]\n",
      "  [ 0.          0.        ]\n",
      "  [ 0.          0.        ]]\n",
      "\n",
      " [[ 1.04323864  9.61685848]\n",
      "  [ 1.0003612   9.45623398]\n",
      "  [ 0.          0.        ]\n",
      "  [ 0.          0.        ]\n",
      "  [ 0.          0.        ]]\n",
      "\n",
      " [[ 1.04323864  9.61685848]\n",
      "  [ 0.          0.        ]\n",
      "  [ 0.          0.        ]\n",
      "  [ 0.          0.        ]\n",
      "  [ 0.          0.        ]]]\n",
      "tf rnn loop:\n",
      "st:\n",
      "[[ 0.99985451  9.29173756]\n",
      " [ 1.0003612   9.45623398]\n",
      " [ 1.04323864  9.61685848]]\n",
      "sts:\n",
      "[[[ 1.04323864  9.61685848]\n",
      "  [ 1.0003612   9.45623398]\n",
      "  [ 0.99985451  9.29173756]\n",
      "  [ 0.          0.        ]\n",
      "  [ 0.          0.        ]]\n",
      "\n",
      " [[ 1.04323864  9.61685848]\n",
      "  [ 1.0003612   9.45623398]\n",
      "  [ 0.          0.        ]\n",
      "  [ 0.          0.        ]\n",
      "  [ 0.          0.        ]]\n",
      "\n",
      " [[ 1.04323864  9.61685848]\n",
      "  [ 0.          0.        ]\n",
      "  [ 0.          0.        ]\n",
      "  [ 0.          0.        ]\n",
      "  [ 0.          0.        ]]]\n"
     ]
    }
   ],
   "source": [
    "with tf.Session() as sess:\n",
    "  sess.run(init)\n",
    "  \n",
    "  print('while loop:')\n",
    "  av, bv, cv = sess.run([ar, br, cr])\n",
    "  print(av)\n",
    "  print(bv)\n",
    "  print(cv)\n",
    "  \n",
    "  print('rnn loop:')\n",
    "  stv1, stsv1, tv = sess.run([final_state, all_states, final_t])\n",
    "  print('t: {}'.format(tv))\n",
    "  print('st:\\n{}'.format(stv1))\n",
    "  print('sts:\\n{}'.format(stsv1))\n",
    "  \n",
    "  print('tf rnn loop:')\n",
    "  stv2, stsv2 = sess.run([final_state_true, all_states_true])\n",
    "  print('st:\\n{}'.format(stv2))\n",
    "  print('sts:\\n{}'.format(stsv2))\n",
    "  \n",
    "  assert(np.all(stv1 == stv2))\n",
    "  assert(np.all(stsv1 == stsv2))"
   ]
  }
 ],
 "metadata": {
  "kernelspec": {
   "display_name": "Python 3",
   "language": "python",
   "name": "python3"
  },
  "language_info": {
   "codemirror_mode": {
    "name": "ipython",
    "version": 3
   },
   "file_extension": ".py",
   "mimetype": "text/x-python",
   "name": "python",
   "nbconvert_exporter": "python",
   "pygments_lexer": "ipython3",
   "version": "3.6.3"
  }
 },
 "nbformat": 4,
 "nbformat_minor": 2
}
