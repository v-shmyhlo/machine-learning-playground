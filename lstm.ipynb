{
 "cells": [
  {
   "cell_type": "markdown",
   "metadata": {},
   "source": [
    "# LSTM (Long Short Term Memory) Cell"
   ]
  },
  {
   "cell_type": "markdown",
   "metadata": {},
   "source": [
    "### Dependencies"
   ]
  },
  {
   "cell_type": "code",
   "execution_count": 1,
   "metadata": {},
   "outputs": [
    {
     "name": "stderr",
     "output_type": "stream",
     "text": [
      "/Library/Frameworks/Python.framework/Versions/3.6/lib/python3.6/importlib/_bootstrap.py:205: RuntimeWarning: compiletime version 3.5 of module 'tensorflow.python.framework.fast_tensor_util' does not match runtime version 3.6\n",
      "  return f(*args, **kwds)\n"
     ]
    }
   ],
   "source": [
    "import tensorflow as tf"
   ]
  },
  {
   "cell_type": "markdown",
   "metadata": {},
   "source": [
    "### LSTM Cell"
   ]
  },
  {
   "cell_type": "code",
   "execution_count": 2,
   "metadata": {
    "collapsed": true
   },
   "outputs": [],
   "source": [
    "num_features = 300\n",
    "num_classes = num_features\n",
    "num_unrollings = 10\n",
    "num_lstm_nodes = 256\n",
    "batch_size = 32\n",
    "\n",
    "class LSTM(object):\n",
    "  def __init__(self):\n",
    "    self.W_f_x = tf.Variable(tf.truncated_normal([num_features, num_lstm_nodes], stddev=0.1))\n",
    "    self.W_f_hprev = tf.Variable(tf.truncated_normal([num_lstm_nodes, num_lstm_nodes], stddev=0.1))\n",
    "    self.W_f_b = tf.Variable(tf.truncated_normal([num_lstm_nodes], stddev=0.1))\n",
    "\n",
    "    self.W_i_x = tf.Variable(tf.truncated_normal([num_features, num_lstm_nodes], stddev=0.1))\n",
    "    self.W_i_hprev = tf.Variable(tf.truncated_normal([num_lstm_nodes, num_lstm_nodes], stddev=0.1))\n",
    "    self.W_i_b = tf.Variable(tf.truncated_normal([num_lstm_nodes], stddev=0.1))\n",
    "\n",
    "    self.W_o_x = tf.Variable(tf.truncated_normal([num_features, num_lstm_nodes], stddev=0.1))\n",
    "    self.W_o_hprev = tf.Variable(tf.truncated_normal([num_lstm_nodes, num_lstm_nodes], stddev=0.1))\n",
    "    self.W_o_b = tf.Variable(tf.truncated_normal([num_lstm_nodes], stddev=0.1))\n",
    "\n",
    "    self.W_ci_x = tf.Variable(tf.truncated_normal([num_features, num_lstm_nodes], stddev=0.1))\n",
    "    self.W_ci_hprev = tf.Variable(tf.truncated_normal([num_lstm_nodes, num_lstm_nodes], stddev=0.1))\n",
    "    self.W_ci_b = tf.Variable(tf.truncated_normal([num_lstm_nodes], stddev=0.1))\n",
    "\n",
    "  def __call__(self, x, hprev, cprev):\n",
    "    f = tf.sigmoid(tf.matmul(x, self.W_f_x) + tf.matmul(hprev, self.W_f_hprev) + self.W_f_b)\n",
    "    i = tf.sigmoid(tf.matmul(x, self.W_i_x) + tf.matmul(hprev, self.W_i_hprev) + self.W_i_b)\n",
    "    o = tf.sigmoid(tf.matmul(x, self.W_o_x) + tf.matmul(hprev, self.W_o_hprev) + self.W_o_b)\n",
    "    ci = tf.tanh(tf.matmul(x, self.W_ci_x) + tf.matmul(hprev, self.W_ci_hprev) + self.W_ci_b)\n",
    "\n",
    "    c = f * cprev + i * ci\n",
    "    h = o * tf.tanh(c)\n",
    "\n",
    "    return h, c"
   ]
  },
  {
   "cell_type": "markdown",
   "metadata": {},
   "source": [
    "### Usage"
   ]
  },
  {
   "cell_type": "code",
   "execution_count": 3,
   "metadata": {},
   "outputs": [
    {
     "name": "stdout",
     "output_type": "stream",
     "text": [
      "output: Tensor(\"mul_29:0\", shape=(32, 256), dtype=float32)\n",
      "state: Tensor(\"add_89:0\", shape=(32, 256), dtype=float32)\n"
     ]
    }
   ],
   "source": [
    "xs = tf.placeholder(tf.float32, [num_unrollings, batch_size, num_features])\n",
    "y = tf.placeholder(tf.float32, [batch_size, num_classes])\n",
    "\n",
    "output = tf.Variable(tf.zeros([batch_size, num_lstm_nodes]), trainable=False)\n",
    "state = tf.Variable(tf.zeros([batch_size, num_lstm_nodes]), trainable=False)\n",
    "\n",
    "lstm = LSTM()\n",
    "\n",
    "for i in range(xs.shape[0]):\n",
    "  output, state = lstm(xs[i], output, state)\n",
    "\n",
    "print('output: {}'.format(output))\n",
    "print('state: {}'.format(state))"
   ]
  }
 ],
 "metadata": {
  "kernelspec": {
   "display_name": "Python 3",
   "language": "python",
   "name": "python3"
  },
  "language_info": {
   "codemirror_mode": {
    "name": "ipython",
    "version": 3
   },
   "file_extension": ".py",
   "mimetype": "text/x-python",
   "name": "python",
   "nbconvert_exporter": "python",
   "pygments_lexer": "ipython3",
   "version": "3.6.1"
  }
 },
 "nbformat": 4,
 "nbformat_minor": 2
}
