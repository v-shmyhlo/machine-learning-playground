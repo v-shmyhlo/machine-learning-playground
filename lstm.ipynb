{
 "cells": [
  {
   "cell_type": "markdown",
   "metadata": {},
   "source": [
    "### Dependencies"
   ]
  },
  {
   "cell_type": "code",
   "execution_count": 1,
   "metadata": {
    "collapsed": true
   },
   "outputs": [],
   "source": [
    "import tensorflow as tf"
   ]
  },
  {
   "cell_type": "markdown",
   "metadata": {},
   "source": [
    "### LSTM Cell"
   ]
  },
  {
   "cell_type": "code",
   "execution_count": 2,
   "metadata": {
    "collapsed": true
   },
   "outputs": [],
   "source": [
    "num_features = 27\n",
    "num_classes = num_features\n",
    "num_unrollings = 50\n",
    "num_lstm_nodes = 128\n",
    "batch_size = 32\n",
    "\n",
    "class LSTM(object):\n",
    "  def __init__(self):\n",
    "    self.W_f_x = tf.Variable(tf.truncated_normal([num_features, num_lstm_nodes], stddev=0.1))\n",
    "    self.W_f_out = tf.Variable(tf.truncated_normal([num_lstm_nodes, num_lstm_nodes], stddev=0.1))\n",
    "    self.W_f_b = tf.Variable(tf.truncated_normal([num_lstm_nodes], stddev=0.1))\n",
    "\n",
    "    self.W_i_x = tf.Variable(tf.truncated_normal([num_features, num_lstm_nodes], stddev=0.1))\n",
    "    self.W_i_out = tf.Variable(tf.truncated_normal([num_lstm_nodes, num_lstm_nodes], stddev=0.1))\n",
    "    self.W_i_b = tf.Variable(tf.truncated_normal([num_lstm_nodes], stddev=0.1))\n",
    "\n",
    "    self.W_o_x = tf.Variable(tf.truncated_normal([num_features, num_lstm_nodes], stddev=0.1))\n",
    "    self.W_o_out = tf.Variable(tf.truncated_normal([num_lstm_nodes, num_lstm_nodes], stddev=0.1))\n",
    "    self.W_o_b = tf.Variable(tf.truncated_normal([num_lstm_nodes], stddev=0.1))\n",
    "\n",
    "    self.W_Ci_x = tf.Variable(tf.truncated_normal([num_features, num_lstm_nodes], stddev=0.1))\n",
    "    self.W_Ci_out = tf.Variable(tf.truncated_normal([num_lstm_nodes, num_lstm_nodes], stddev=0.1))\n",
    "    self.W_Ci_b = tf.Variable(tf.truncated_normal([num_lstm_nodes], stddev=0.1))\n",
    "\n",
    "  def __call__(self, x, out, C):\n",
    "    f = tf.sigmoid(tf.matmul(x, self.W_f_x) + tf.matmul(out, self.W_f_out) + self.W_f_b)\n",
    "    i = tf.sigmoid(tf.matmul(x, self.W_i_x) + tf.matmul(out, self.W_i_out) + self.W_i_b)\n",
    "    o = tf.sigmoid(tf.matmul(x, self.W_o_x) + tf.matmul(out, self.W_o_out) + self.W_o_b)\n",
    "    Ci = tf.tanh(tf.matmul(x, self.W_Ci_x) + tf.matmul(out, self.W_Ci_out) + self.W_Ci_b)\n",
    "\n",
    "    C_new = f * C + i * Ci\n",
    "    out_new = o * tf.tanh(C_new)\n",
    "\n",
    "    return out_new, C_new"
   ]
  },
  {
   "cell_type": "markdown",
   "metadata": {},
   "source": [
    "### Usage"
   ]
  },
  {
   "cell_type": "code",
   "execution_count": 3,
   "metadata": {},
   "outputs": [
    {
     "name": "stdout",
     "output_type": "stream",
     "text": [
      "Tensor(\"mul_149:0\", shape=(32, 128), dtype=float32)\n"
     ]
    }
   ],
   "source": [
    "xs = tf.placeholder(tf.float32, [num_unrollings, batch_size, num_features])\n",
    "y = tf.placeholder(tf.float32, [batch_size, num_classes])\n",
    "\n",
    "output = tf.Variable(tf.zeros([batch_size, num_lstm_nodes]), trainable=False)\n",
    "state = tf.Variable(tf.zeros([batch_size, num_lstm_nodes]), trainable=False)\n",
    "\n",
    "lstm = LSTM()\n",
    "\n",
    "for i in range(xs.shape[0]):\n",
    "  output, state = lstm(xs[i], output, state)\n",
    "\n",
    "print(output)"
   ]
  }
 ],
 "metadata": {
  "kernelspec": {
   "display_name": "Python 3",
   "language": "python",
   "name": "python3"
  },
  "language_info": {
   "codemirror_mode": {
    "name": "ipython",
    "version": 3
   },
   "file_extension": ".py",
   "mimetype": "text/x-python",
   "name": "python",
   "nbconvert_exporter": "python",
   "pygments_lexer": "ipython3",
   "version": "3.6.1"
  }
 },
 "nbformat": 4,
 "nbformat_minor": 2
}
