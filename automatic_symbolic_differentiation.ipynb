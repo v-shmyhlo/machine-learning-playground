{
 "cells": [
  {
   "cell_type": "markdown",
   "metadata": {},
   "source": [
    "# Automatic Symbolic Differentiation"
   ]
  },
  {
   "cell_type": "markdown",
   "metadata": {},
   "source": [
    "### Dependencies"
   ]
  },
  {
   "cell_type": "code",
   "execution_count": 1,
   "metadata": {
    "collapsed": true
   },
   "outputs": [],
   "source": [
    "import numpy as np\n",
    "import matplotlib.pyplot as plt\n",
    "import matplotlib\n",
    "\n",
    "%matplotlib inline\n",
    "# matplotlib.rcParams['figure.figsize'] = (6.4 * 2, 4.8 * 2)"
   ]
  },
  {
   "cell_type": "markdown",
   "metadata": {},
   "source": [
    "### Graph operations definitions"
   ]
  },
  {
   "cell_type": "code",
   "execution_count": 2,
   "metadata": {
    "collapsed": true
   },
   "outputs": [],
   "source": [
    "class Op(object):\n",
    "  def ind(self, s, i):\n",
    "    return '  ' * i + s\n",
    "  \n",
    "  def __add__(self, x):\n",
    "    return Add(self, x)\n",
    "  \n",
    "  def __sub__(self, x):\n",
    "    return Sub(self, x)\n",
    "  \n",
    "  def __mul__(self, x):\n",
    "    return Mul(self, x)\n",
    "  \n",
    "  def __truediv__(self, x):\n",
    "    return Div(self, x)\n",
    "  \n",
    "  def __pow__(self, x):\n",
    "    return Pow(self, x)\n",
    "\n",
    "class BinaryOp(Op):\n",
    "  def __init__(self, a, b):\n",
    "    self.a = a\n",
    "    self.b = b\n",
    "    \n",
    "  def __str__(self, i=0):\n",
    "    return '\\n'.join([\n",
    "      self.ind(self.op_name + '(', i),\n",
    "      self.a.__str__(i + 1) + ',',\n",
    "      self.b.__str__(i + 1),\n",
    "      self.ind(')', i)\n",
    "    ])\n",
    "  \n",
    "class Const(Op):\n",
    "  def __init__(self, x):\n",
    "    self.x = x\n",
    "    \n",
    "  def __str__(self, i=0):\n",
    "    return self.ind('Const(%s)' % self.x, i)\n",
    "    \n",
    "  def eval(self, feeds):\n",
    "    return self.x\n",
    "  \n",
    "  def deriv(self, var):\n",
    "    if var == self:\n",
    "      return Const(1)\n",
    "    else:\n",
    "      return Const(0)\n",
    "\n",
    "class Placeholder(Op):\n",
    "  def __init__(self, name):\n",
    "    self.name = name\n",
    "    \n",
    "  def __str__(self, i=0):\n",
    "    return self.ind('Placeholder(\\\"%s\\\")' % self.name, i)\n",
    "    \n",
    "  def eval(self, feeds):\n",
    "    return feeds[self]\n",
    "  \n",
    "  def deriv(self, var):\n",
    "    if var == self:\n",
    "      return Const(1)\n",
    "    else:\n",
    "      return Const(0)\n",
    "  \n",
    "class Add(BinaryOp):    \n",
    "  op_name = 'Add'\n",
    "    \n",
    "  def eval(self, feeds):\n",
    "    return self.a.eval(feeds) + self.b.eval(feeds)\n",
    "  \n",
    "  def deriv(self, var):\n",
    "    return self.a.deriv(var) + self.b.deriv(var)\n",
    "\n",
    "class Sub(BinaryOp):\n",
    "  op_name = 'Sub'\n",
    "    \n",
    "  def eval(self, feeds):\n",
    "    return self.a.eval(feeds) - self.b.eval(feeds)\n",
    "  \n",
    "  def deriv(self, var):\n",
    "    return self.a.deriv(var) - self.b.deriv(var)\n",
    "  \n",
    "class Mul(BinaryOp):\n",
    "  op_name = 'Mul'\n",
    "    \n",
    "  def eval(self, feeds):\n",
    "    return self.a.eval(feeds) * self.b.eval(feeds)\n",
    "  \n",
    "  def deriv(self, var):\n",
    "    return (self.a * self.b.deriv(var)) + (self.b * self.a.deriv(var))\n",
    "  \n",
    "class Div(BinaryOp):\n",
    "  op_name = 'Div'\n",
    "    \n",
    "  def eval(self, feeds):\n",
    "    return self.a.eval(feeds) / self.b.eval(feeds)\n",
    "  \n",
    "  def deriv(self, var):\n",
    "    return (self.b * self.a.deriv(var) - self.a * self.b.deriv(var)) / (self.b ** Const(2))\n",
    "  \n",
    "class Pow(BinaryOp):\n",
    "  op_name = 'Pow'\n",
    "    \n",
    "  def eval(self, feeds):\n",
    "    return self.a.eval(feeds) ** self.b.eval(feeds)\n",
    "  \n",
    "  def deriv(self, var):\n",
    "    return ((self.b * self.a) ** (self.b - Const(1))) * self.a.deriv(var)"
   ]
  },
  {
   "cell_type": "markdown",
   "metadata": {},
   "source": [
    "### Build a graph"
   ]
  },
  {
   "cell_type": "code",
   "execution_count": 3,
   "metadata": {},
   "outputs": [
    {
     "name": "stdout",
     "output_type": "stream",
     "text": [
      "c graph:\n",
      "Pow(\n",
      "  Div(\n",
      "    Mul(\n",
      "      Add(\n",
      "        Placeholder(\"a\"),\n",
      "        Const(2)\n",
      "      ),\n",
      "      Sub(\n",
      "        Const(2),\n",
      "        Placeholder(\"a\")\n",
      "      )\n",
      "    ),\n",
      "    Const(2)\n",
      "  ),\n",
      "  Const(2)\n",
      ")\n"
     ]
    }
   ],
   "source": [
    "a = Placeholder('a')\n",
    "b = Const(2)\n",
    "\n",
    "c = (a + b) * (b - a)\n",
    "c = c / Const(2)\n",
    "c = c ** Const(2)\n",
    "\n",
    "ad = c.deriv(a)\n",
    "\n",
    "print('c graph:\\n%s' % c)\n",
    "# print('ad graph: %s' % ad)"
   ]
  },
  {
   "cell_type": "markdown",
   "metadata": {},
   "source": [
    "### Evaluate graph and derivatives"
   ]
  },
  {
   "cell_type": "code",
   "execution_count": 4,
   "metadata": {},
   "outputs": [
    {
     "name": "stdout",
     "output_type": "stream",
     "text": [
      "c = [   6.25   36.    110.25]\n",
      "ad = [  15.   48.  105.]\n",
      "numerical ad = [  15.000115     48.00022     105.00035499]\n"
     ]
    }
   ],
   "source": [
    "x = np.array([3, 4, 5])\n",
    "print('c = %s' % c.eval({a: x}))\n",
    "\n",
    "delta = 0.00001\n",
    "ad_num = (c.eval({a: x + delta}) - c.eval({a: x})) / delta\n",
    "\n",
    "print('ad = %s' % ad.eval({a: x}))\n",
    "print('numerical ad = %s' % ad_num)"
   ]
  },
  {
   "cell_type": "markdown",
   "metadata": {},
   "source": [
    "# Gradient descent"
   ]
  },
  {
   "cell_type": "markdown",
   "metadata": {},
   "source": [
    "### Dataset "
   ]
  },
  {
   "cell_type": "code",
   "execution_count": 5,
   "metadata": {
    "collapsed": true
   },
   "outputs": [],
   "source": [
    "x = 5\n",
    "y = x * 3.75 + 1.25\n",
    "w = -1\n",
    "b = 1.25"
   ]
  },
  {
   "cell_type": "markdown",
   "metadata": {},
   "source": [
    "### Build a graph"
   ]
  },
  {
   "cell_type": "code",
   "execution_count": 6,
   "metadata": {
    "scrolled": false
   },
   "outputs": [
    {
     "name": "stdout",
     "output_type": "stream",
     "text": [
      "loss graph: \n",
      "Pow(\n",
      "  Sub(\n",
      "    Add(\n",
      "      Mul(\n",
      "        Placeholder(\"x\"),\n",
      "        Placeholder(\"w\")\n",
      "      ),\n",
      "      Placeholder(\"b\")\n",
      "    ),\n",
      "    Placeholder(\"y\")\n",
      "  ),\n",
      "  Const(2)\n",
      ")\n"
     ]
    }
   ],
   "source": [
    "def make_feeds(overrides={}):\n",
    "  feeds = {\n",
    "    xph: x, \n",
    "    yph: y, \n",
    "    wph: w, \n",
    "    bph: b\n",
    "  }\n",
    "  return {**feeds, **overrides}\n",
    "\n",
    "xph = Placeholder('x')\n",
    "yph = Placeholder('y')\n",
    "wph = Placeholder('w')\n",
    "bph = Placeholder('b')\n",
    "\n",
    "y_hat = xph * wph + bph\n",
    "loss = (y_hat - yph) ** Const(2)\n",
    "wd = loss.deriv(wph)\n",
    "bd = loss.deriv(bph)\n",
    "\n",
    "print('loss graph: \\n%s' % loss)"
   ]
  },
  {
   "cell_type": "markdown",
   "metadata": {},
   "source": [
    "### Train"
   ]
  },
  {
   "cell_type": "code",
   "execution_count": 7,
   "metadata": {},
   "outputs": [
    {
     "name": "stdout",
     "output_type": "stream",
     "text": [
      "loss = 564.0625\n",
      "step: 0, loss: 402.65940564062504\n",
      "step: 10, loss: 13.83706720869469\n",
      "step: 20, loss: 0.4754997058452332\n",
      "step: 30, loss: 0.01634016564701127\n",
      "step: 40, loss: 0.0005615166741211749\n",
      "step: 50, loss: 1.9296069705014235e-05\n",
      "w = 3.59, b = 2.03\n"
     ]
    },
    {
     "data": {
      "text/plain": [
       "[<matplotlib.lines.Line2D at 0x103b08cc0>]"
      ]
     },
     "execution_count": 7,
     "metadata": {},
     "output_type": "execute_result"
    },
    {
     "data": {
      "image/png": "[encoded data removed]",
      "text/plain": [
       "<matplotlib.figure.Figure at 0x1048d9160>"
      ]
     },
     "metadata": {},
     "output_type": "display_data"
    }
   ],
   "source": [
    "steps = 51\n",
    "log_interval = 10\n",
    "learning_rate = 0.003\n",
    "descents = []\n",
    "\n",
    "l = loss.eval(make_feeds())\n",
    "print('loss = %s' % l)\n",
    "ws = np.linspace(3.75 - 5, 3.75 + 5)\n",
    "plt.plot(ws, loss.eval(make_feeds({wph: ws})))\n",
    "\n",
    "descents.append([w, l])\n",
    "for i in range(steps):\n",
    "  w -= learning_rate * wd.eval(make_feeds())\n",
    "  b -= learning_rate * bd.eval(make_feeds())\n",
    "  l = loss.eval(make_feeds())\n",
    "  descents.append([w, l])\n",
    "  \n",
    "  if i % log_interval == 0:\n",
    "    print('step: %d, loss: %s' %(i, loss.eval(make_feeds())))\n",
    "\n",
    "print('w = %.2f, b = %.2f' % (w, b))\n",
    "descents = np.array(descents)\n",
    "plt.plot(descents[:, 0], descents[:, 1], '-x')"
   ]
  }
 ],
 "metadata": {
  "kernelspec": {
   "display_name": "Python 3",
   "language": "python",
   "name": "python3"
  },
  "language_info": {
   "codemirror_mode": {
    "name": "ipython",
    "version": 3
   },
   "file_extension": ".py",
   "mimetype": "text/x-python",
   "name": "python",
   "nbconvert_exporter": "python",
   "pygments_lexer": "ipython3",
   "version": "3.6.1"
  }
 },
 "nbformat": 4,
 "nbformat_minor": 2
}
