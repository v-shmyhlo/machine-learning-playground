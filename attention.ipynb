{
 "cells": [
  {
   "cell_type": "markdown",
   "metadata": {},
   "source": [
    "# Attention"
   ]
  },
  {
   "cell_type": "code",
   "execution_count": 1,
   "metadata": {},
   "outputs": [
    {
     "name": "stderr",
     "output_type": "stream",
     "text": [
      "/Library/Frameworks/Python.framework/Versions/3.6/lib/python3.6/importlib/_bootstrap.py:205: RuntimeWarning: compiletime version 3.5 of module 'tensorflow.python.framework.fast_tensor_util' does not match runtime version 3.6\n",
      "  return f(*args, **kwds)\n"
     ]
    }
   ],
   "source": [
    "import tensorflow as tf"
   ]
  },
  {
   "cell_type": "code",
   "execution_count": 16,
   "metadata": {
    "collapsed": true
   },
   "outputs": [],
   "source": [
    "class GRU(object):\n",
    "  def __init__(self, input_size, hidden_size):\n",
    "    self.w_x_z = tf.Variable(tf.truncated_normal([input_size, hidden_size], stddev=0.1))\n",
    "    self.w_h_z = tf.Variable(tf.truncated_normal([hidden_size, hidden_size], stddev=0.1))\n",
    "    self.b_z = tf.Variable(tf.truncated_normal([1, hidden_size], stddev=0.1))\n",
    "\n",
    "    self.w_x_r = tf.Variable(tf.truncated_normal([input_size, hidden_size], stddev=0.1))\n",
    "    self.w_h_r = tf.Variable(tf.truncated_normal([hidden_size, hidden_size], stddev=0.1))\n",
    "    self.b_r = tf.Variable(tf.truncated_normal([1, hidden_size], stddev=0.1))\n",
    "\n",
    "    self.w_x = tf.Variable(tf.truncated_normal([input_size, hidden_size], stddev=0.1))\n",
    "    self.w_h = tf.Variable(tf.truncated_normal([hidden_size, hidden_size], stddev=0.1))\n",
    "    self.b = tf.Variable(tf.truncated_normal([1, hidden_size], stddev=0.1))\n",
    "    \n",
    "  def __call__(self, x, hprev):\n",
    "    z = tf.sigmoid(x @ self.w_x_z + hprev @ self.w_h_z + self.b_z)\n",
    "    r = tf.sigmoid(x @ self.w_x_r + hprev @ self.w_h_r + self.b_r)\n",
    "    hi = tf.tanh(x @ self.w_x + (r * hprev) @ self.w_h + self.b)\n",
    "    h = (1 - z) * hprev + z * hi\n",
    "    \n",
    "    return h"
   ]
  },
  {
   "cell_type": "code",
   "execution_count": 87,
   "metadata": {
    "scrolled": false
   },
   "outputs": [
    {
     "name": "stdout",
     "output_type": "stream",
     "text": [
      "Tensor(\"Sum_4:0\", shape=(10, 32, 1), dtype=float32)\n"
     ]
    }
   ],
   "source": [
    "gru_h_size = 256\n",
    "batch_size = 32\n",
    "seq_size = 10\n",
    "  \n",
    "w = tf.Variable(tf.truncated_normal([gru_h_size, gru_h_size], stddev=0.1))\n",
    "\n",
    "\n",
    "\n",
    "hsource = tf.ones((seq_size, batch_size, gru_h_size))\n",
    "htarget = tf.ones((batch_size, gru_h_size))\n",
    "\n",
    "score = tf.reduce_sum(htarget @ w * hsource, axis=2, keep_dims=True)\n",
    "\n",
    "print(score)"
   ]
  },
  {
   "cell_type": "code",
   "execution_count": null,
   "metadata": {
    "collapsed": true
   },
   "outputs": [],
   "source": []
  }
 ],
 "metadata": {
  "kernelspec": {
   "display_name": "Python 3",
   "language": "python",
   "name": "python3"
  },
  "language_info": {
   "codemirror_mode": {
    "name": "ipython",
    "version": 3
   },
   "file_extension": ".py",
   "mimetype": "text/x-python",
   "name": "python",
   "nbconvert_exporter": "python",
   "pygments_lexer": "ipython3",
   "version": "3.6.1"
  }
 },
 "nbformat": 4,
 "nbformat_minor": 2
}
