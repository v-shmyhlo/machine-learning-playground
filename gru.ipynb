{
 "cells": [
  {
   "cell_type": "markdown",
   "metadata": {},
   "source": [
    "# GRU (Gated Recurrent Unit) Cell"
   ]
  },
  {
   "cell_type": "markdown",
   "metadata": {},
   "source": [
    "### Dependencies"
   ]
  },
  {
   "cell_type": "code",
   "execution_count": 1,
   "metadata": {},
   "outputs": [
    {
     "name": "stderr",
     "output_type": "stream",
     "text": [
      "/Library/Frameworks/Python.framework/Versions/3.6/lib/python3.6/importlib/_bootstrap.py:205: RuntimeWarning: compiletime version 3.5 of module 'tensorflow.python.framework.fast_tensor_util' does not match runtime version 3.6\n",
      "  return f(*args, **kwds)\n"
     ]
    }
   ],
   "source": [
    "import tensorflow as tf"
   ]
  },
  {
   "cell_type": "markdown",
   "metadata": {},
   "source": [
    "### GRU Cell"
   ]
  },
  {
   "cell_type": "code",
   "execution_count": 2,
   "metadata": {
    "collapsed": true
   },
   "outputs": [],
   "source": [
    "class GRU(object):\n",
    "  def __init__(self, input_size, hidden_size):\n",
    "    self.w_x_z = tf.Variable(tf.truncated_normal([input_size, hidden_size], stddev=0.1))\n",
    "    self.w_h_z = tf.Variable(tf.truncated_normal([hidden_size, hidden_size], stddev=0.1))\n",
    "    self.b_z = tf.Variable(tf.truncated_normal([1, hidden_size], stddev=0.1))\n",
    "\n",
    "    self.w_x_r = tf.Variable(tf.truncated_normal([input_size, hidden_size], stddev=0.1))\n",
    "    self.w_h_r = tf.Variable(tf.truncated_normal([hidden_size, hidden_size], stddev=0.1))\n",
    "    self.b_r = tf.Variable(tf.truncated_normal([1, hidden_size], stddev=0.1))\n",
    "\n",
    "    self.w_x = tf.Variable(tf.truncated_normal([input_size, hidden_size], stddev=0.1))\n",
    "    self.w_h = tf.Variable(tf.truncated_normal([hidden_size, hidden_size], stddev=0.1))\n",
    "    self.b = tf.Variable(tf.truncated_normal([1, hidden_size], stddev=0.1))\n",
    "    \n",
    "  def __call__(self, x, hprev):\n",
    "    z = tf.sigmoid(tf.matmul(x, self.w_x_z) + tf.matmul(hprev, self.w_h_z) + self.b_z)\n",
    "    r = tf.sigmoid(tf.matmul(x, self.w_x_r) + tf.matmul(hprev, self.w_h_r) + self.b_r)\n",
    "    hi = tf.tanh(tf.matmul(x, self.w_x) + tf.matmul(r * hprev, self.w_h) + self.b)\n",
    "    h = (1 - z) * hprev + z * hi\n",
    "    \n",
    "    return h"
   ]
  },
  {
   "cell_type": "markdown",
   "metadata": {},
   "source": [
    "### Usage"
   ]
  },
  {
   "cell_type": "code",
   "execution_count": 3,
   "metadata": {},
   "outputs": [
    {
     "name": "stdout",
     "output_type": "stream",
     "text": [
      "state: Tensor(\"add_69:0\", shape=(32, 256), dtype=float32)\n"
     ]
    }
   ],
   "source": [
    "num_features = 300\n",
    "num_classes = num_features\n",
    "num_unrollings = 10\n",
    "num_gru_nodes = 256\n",
    "batch_size = 32\n",
    "\n",
    "xs = tf.placeholder(tf.float32, [num_unrollings, batch_size, num_features])\n",
    "y = tf.placeholder(tf.float32, [batch_size, num_classes])\n",
    "\n",
    "state = tf.Variable(tf.zeros([batch_size, num_gru_nodes]), trainable=False)\n",
    "\n",
    "gru = GRU(num_features, num_gru_nodes)\n",
    "\n",
    "for i in range(xs.shape[0]):\n",
    "  state = gru(xs[i], state)\n",
    "\n",
    "print('state: {}'.format(state))"
   ]
  }
 ],
 "metadata": {
  "kernelspec": {
   "display_name": "Python 3",
   "language": "python",
   "name": "python3"
  },
  "language_info": {
   "codemirror_mode": {
    "name": "ipython",
    "version": 3
   },
   "file_extension": ".py",
   "mimetype": "text/x-python",
   "name": "python",
   "nbconvert_exporter": "python",
   "pygments_lexer": "ipython3",
   "version": "3.6.1"
  }
 },
 "nbformat": 4,
 "nbformat_minor": 2
}
