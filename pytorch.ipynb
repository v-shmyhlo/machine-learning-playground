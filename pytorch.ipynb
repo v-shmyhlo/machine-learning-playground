{
 "cells": [
  {
   "cell_type": "code",
   "execution_count": 1,
   "metadata": {},
   "outputs": [],
   "source": [
    "import torch\n",
    "from torch import Tensor\n",
    "from torch.autograd import Variable\n",
    "import torch.optim as optim\n",
    "import torch.nn.functional as F"
   ]
  },
  {
   "cell_type": "code",
   "execution_count": 2,
   "metadata": {},
   "outputs": [],
   "source": [
    "poly_degree = 4\n",
    "\n",
    "W_target = torch.ones(poly_degree, 1) * 5\n",
    "b_target = torch.ones(1) * 5\n",
    "\n",
    "def f(x):\n",
    "    \"\"\"Approximated function.\"\"\"\n",
    "    return x.mm(W_target) + b_target[0]\n",
    "\n",
    "def make_features(x):\n",
    "    \"\"\"Builds features i.e. a matrix with columns [x, x^2, x^3, x^4].\"\"\"\n",
    "    x = x.unsqueeze(1)\n",
    "    return torch.cat([x ** i for i in range(1, poly_degree+1)], 1)\n",
    "  \n",
    "def next_batch(batch_size=32):\n",
    "    \"\"\"Builds a batch i.e. (x, f(x)) pair.\"\"\"\n",
    "    random = torch.randn(batch_size)\n",
    "    x = make_features(random)\n",
    "    y = f(x)\n",
    "    return Variable(x, requires_grad=False), Variable(y, requires_grad=False)"
   ]
  },
  {
   "cell_type": "code",
   "execution_count": 3,
   "metadata": {},
   "outputs": [],
   "source": [
    "learning_rate = 0.001\n",
    "\n",
    "pred = torch.nn.Linear(W_target.size(0), 1)\n",
    "optimizer = optim.SGD(pred.parameters(), lr=learning_rate)"
   ]
  },
  {
   "cell_type": "code",
   "execution_count": 4,
   "metadata": {
    "scrolled": false
   },
   "outputs": [
    {
     "name": "stdout",
     "output_type": "stream",
     "text": [
      "step: 0, loss: 33.25333786010742\n",
      "step: 500, loss: 11.235184669494629\n",
      "step: 1000, loss: 8.635750770568848\n",
      "step: 1500, loss: 10.732982635498047\n",
      "step: 2000, loss: 13.996150016784668\n",
      "step: 2500, loss: 8.966940879821777\n",
      "step: 3000, loss: 6.052102088928223\n",
      "step: 3500, loss: 8.52223014831543\n",
      "step: 4000, loss: 6.985746383666992\n",
      "step: 4500, loss: 3.861328125\n",
      "[Parameter containing:\n",
      " 1.8577  2.3841  5.0106  5.4465\n",
      "[torch.FloatTensor of size 1x4]\n",
      ", Parameter containing:\n",
      " 3.6810\n",
      "[torch.FloatTensor of size 1]\n",
      "]\n"
     ]
    }
   ],
   "source": [
    "log_interval = 500\n",
    "\n",
    "for i in range(5000):\n",
    "    # Get data\n",
    "    x, y_hat = next_batch()\n",
    "\n",
    "    # Reset gradients\n",
    "    pred.zero_grad()\n",
    "\n",
    "    # Forward pass\n",
    "    y = pred(x)\n",
    "    loss = F.smooth_l1_loss(y, y_hat)\n",
    "\n",
    "    # Backward pass\n",
    "    loss.backward()\n",
    "\n",
    "    # Apply gradients\n",
    "    \n",
    "    optimizer.step()\n",
    "#     for param in pred.parameters():\n",
    "#       param.data.add_(-learning_rate * param.grad.data)\n",
    "\n",
    "    if i % log_interval == 0:\n",
    "      print('step: {}, loss: {}'.format(i, loss.data[0]))\n",
    "    \n",
    "print(list(pred.parameters()))"
   ]
  }
 ],
 "metadata": {
  "kernelspec": {
   "display_name": "Python 3",
   "language": "python",
   "name": "python3"
  },
  "language_info": {
   "codemirror_mode": {
    "name": "ipython",
    "version": 3
   },
   "file_extension": ".py",
   "mimetype": "text/x-python",
   "name": "python",
   "nbconvert_exporter": "python",
   "pygments_lexer": "ipython3",
   "version": "3.6.3"
  }
 },
 "nbformat": 4,
 "nbformat_minor": 2
}
